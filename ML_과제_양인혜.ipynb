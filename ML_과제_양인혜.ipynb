{
 "cells": [
  {
   "cell_type": "markdown",
   "id": "9dQr69hrxn0o",
   "metadata": {
    "id": "9dQr69hrxn0o"
   },
   "source": [
    "### 과제1\n",
    "비지도 학습의 목적인 Grouping에 대해 자세히 설명해 주세요! Dataset을 Grouping한다는 것이 무슨 의미인지 간단히 서술해 주시고,\n",
    "\n",
    "세션에서 언급되었던 Grouping을 위한 두 수단에 대해서 예시 모델을 제시하여 설명해 주시면 됩니다! 예시 모델의 종류에 대해서는 구글링을 통해 조사할 수 있겠습니다."
   ]
  },
  {
   "cell_type": "markdown",
   "id": "3d45561e",
   "metadata": {},
   "source": [
    "### 과제1 Answer\n",
    "\n",
    "비지도 학습의 목적 중 하나는 데이터셋을 그룹화(Grouping)하는 것입니다. Grouping은 유사한 패턴, 속성 또는 특성을 갖는 데이터를 동일한 그룹으로 묶어 분류하는 작업을 의미합니다. 이러한 그룹은 사전에 정의된 레이블이나 카테고리 없이 형성되며, 모델은 주어진 데이터에서 스스로 패턴을 찾아내어 각 그룹을 형성하게 됩니다.\n",
    "\n",
    "비지도 학습에서의 Grouping은 다양한 방식으로 이루어질 수 있습니다. 대표적인 예로는 군집화(Clustering)가 있습니다. 군집화는 비슷한 데이터 포인트들을 하나의 군집으로 묶어내는 작업으로, k-means나 계층적 군집화 등의 알고리즘이 사용될 수 있습니다. 이를 통해 데이터셋 내에서 유사한 패턴이나 그룹을 찾아낼 수 있습니다.\n",
    "\n",
    "Grouping은 데이터 이해, 특징 추출, 이상치 탐지 등 다양한 응용 분야에서 사용됩니다. 예를 들어, 고객 행동 데이터를 그룹화하여 비슷한 구매 패턴을 가진 고객들을 식별하거나, 의료 데이터를 그룹화하여 유사한 환자 집단을 형성하는 등의 작업이 있을 수 있습니다. Grouping을 통해 발견된 패턴은 뒤이어 지도 학습의 레이블로 활용되거나, 데이터 이해를 기반으로 의사결정이나 전략 수립에 활용될 수 있습니다."
   ]
  },
  {
   "cell_type": "markdown",
   "id": "343d2e8c",
   "metadata": {},
   "source": [
    "1. Clustering: K-Means Clustering\n",
    "\n",
    "K-Means Clustering은 가장 간단하고 널리 사용되는 군집화 알고리즘 중 하나입니다. 이 알고리즘은 주어진 데이터를 K개의 클러스터로 그룹화합니다. 각 클러스터는 중심(centroid)을 가지며, 각 데이터 포인트는 가장 가까운 중심에 할당됩니다. 알고리즘은 클러스터 내의 데이터 포인트들의 거리 합을 최소화하면서 중심을 조정합니다."
   ]
  },
  {
   "cell_type": "code",
   "execution_count": 6,
   "id": "b5df6f7a",
   "metadata": {},
   "outputs": [
    {
     "name": "stdout",
     "output_type": "stream",
     "text": [
      "Labels: [0 1 0 1 0 1]\n",
      "Centroids: [[1.17 1.47]\n",
      " [7.33 9.  ]]\n"
     ]
    }
   ],
   "source": [
    "from sklearn.cluster import KMeans\n",
    "import numpy as np\n",
    "\n",
    "# 가상의 데이터 생성\n",
    "X = np.array([[1, 2], [5, 8], [1.5, 1.8], [8, 8], [1, 0.6], [9, 11]])\n",
    "\n",
    "# K-Means 모델 생성 (클러스터 개수 k=2)\n",
    "kmeans = KMeans(n_clusters=2)\n",
    "kmeans.fit(X)\n",
    "\n",
    "# 각 데이터 포인트의 클러스터 할당\n",
    "labels = kmeans.labels_\n",
    "\n",
    "# 클러스터 중심 확인\n",
    "centroids = kmeans.cluster_centers_\n",
    "\n",
    "print(\"Labels:\", labels)\n",
    "print(\"Centroids:\", centroids)\n"
   ]
  },
  {
   "cell_type": "markdown",
   "id": "cd22e558",
   "metadata": {},
   "source": [
    "2. Dimensionality Reduction: Principal Component Analysis (PCA)\n",
    "\n",
    "PCA는 데이터셋의 차원을 줄이는데 사용되는 효과적인 방법 중 하나입니다. 이는 데이터의 주성분(Principal Components)을 찾아내어 주성분들로 구성된 공간으로 데이터를 변환합니다. 주성분은 데이터의 분산을 최대화하는 방향으로 정의되며, 이를 이용하여 원래 데이터의 정보를 가능한 한 보존하면서 차원을 축소합니다."
   ]
  },
  {
   "cell_type": "code",
   "execution_count": 2,
   "id": "dd8f1a89",
   "metadata": {},
   "outputs": [
    {
     "name": "stdout",
     "output_type": "stream",
     "text": [
      "Original Data:\n",
      "[[1 2 3]\n",
      " [4 5 6]\n",
      " [7 8 9]]\n",
      "\n",
      "Reduced Data (2 Principal Components):\n",
      "[[ 5.19615242e+00  6.24556048e-17]\n",
      " [-0.00000000e+00 -0.00000000e+00]\n",
      " [-5.19615242e+00  6.24556048e-17]]\n"
     ]
    }
   ],
   "source": [
    "from sklearn.decomposition import PCA\n",
    "import numpy as np\n",
    "\n",
    "# 가상의 데이터 생성\n",
    "X = np.array([[1, 2, 3], [4, 5, 6], [7, 8, 9]])\n",
    "\n",
    "# PCA 모델 생성 (원하는 차원 수로 n_components 설정)\n",
    "pca = PCA(n_components=2)\n",
    "X_pca = pca.fit_transform(X)\n",
    "\n",
    "print(\"Original Data:\")\n",
    "print(X)\n",
    "print(\"\\nReduced Data (2 Principal Components):\")\n",
    "print(X_pca)\n"
   ]
  },
  {
   "cell_type": "markdown",
   "id": "1e21c26a",
   "metadata": {},
   "source": [
    "이 예시에서는 원래 3차원의 데이터를 2차원으로 축소했습니다. PCA는 데이터의 분산을 기준으로 주요한 정보를 보존하면서 차원을 축소하기 때문에, 주로 시각화나 데이터 압축 등의 목적으로 사용됩니다."
   ]
  },
  {
   "cell_type": "markdown",
   "id": "bfRSNJQ9yuJK",
   "metadata": {
    "id": "bfRSNJQ9yuJK"
   },
   "source": [
    "### 과제2\n",
    "드라이브에 첨부된 diabetes.csv 파일을 이용해, decision tree를 이용한 classifier model을 디자인해 주세요!\n",
    "\n",
    "분류 문제에 맞는 (간단한 수준의) 데이터 전처리 및 Feature selection이 선행되어야 합니다.\n",
    "\n",
    "모델의 성능은 상관 없지만, 모델 구동 결과 및 평가지표의 출력은 정상적으로 이루어져야 합니다! 평가지표의 종류 또한 상관 없습니다.\n",
    "\n",
    "데이터셋에 대한 설명은 아래 캐클 링크를 참조해 주세요!\n",
    "https://www.kaggle.com/datasets/uciml/pima-indians-diabetes-database\n",
    "\n",
    "과제 진행에 있어 어려움을 겪으신다면 아래 링크의 내용을 참조하시면 됩니다!\n",
    "https://www.datacamp.com/tutorial/decision-tree-classification-python\n"
   ]
  },
  {
   "cell_type": "code",
   "execution_count": 7,
   "id": "9afdfe38",
   "metadata": {},
   "outputs": [],
   "source": [
    "import pandas as pd\n",
    "from sklearn.model_selection import train_test_split\n",
    "from sklearn.tree import DecisionTreeClassifier\n",
    "from sklearn.metrics import accuracy_score, classification_report, confusion_matrix"
   ]
  },
  {
   "cell_type": "code",
   "execution_count": 8,
   "id": "fc744d60",
   "metadata": {},
   "outputs": [
    {
     "data": {
      "text/html": [
       "<div>\n",
       "<style scoped>\n",
       "    .dataframe tbody tr th:only-of-type {\n",
       "        vertical-align: middle;\n",
       "    }\n",
       "\n",
       "    .dataframe tbody tr th {\n",
       "        vertical-align: top;\n",
       "    }\n",
       "\n",
       "    .dataframe thead th {\n",
       "        text-align: right;\n",
       "    }\n",
       "</style>\n",
       "<table border=\"1\" class=\"dataframe\">\n",
       "  <thead>\n",
       "    <tr style=\"text-align: right;\">\n",
       "      <th></th>\n",
       "      <th>Pregnancies</th>\n",
       "      <th>Glucose</th>\n",
       "      <th>BloodPressure</th>\n",
       "      <th>SkinThickness</th>\n",
       "      <th>Insulin</th>\n",
       "      <th>BMI</th>\n",
       "      <th>DiabetesPedigreeFunction</th>\n",
       "      <th>Age</th>\n",
       "      <th>Outcome</th>\n",
       "    </tr>\n",
       "  </thead>\n",
       "  <tbody>\n",
       "    <tr>\n",
       "      <th>0</th>\n",
       "      <td>6</td>\n",
       "      <td>148</td>\n",
       "      <td>72</td>\n",
       "      <td>35</td>\n",
       "      <td>0</td>\n",
       "      <td>33.6</td>\n",
       "      <td>0.627</td>\n",
       "      <td>50</td>\n",
       "      <td>1</td>\n",
       "    </tr>\n",
       "    <tr>\n",
       "      <th>1</th>\n",
       "      <td>1</td>\n",
       "      <td>85</td>\n",
       "      <td>66</td>\n",
       "      <td>29</td>\n",
       "      <td>0</td>\n",
       "      <td>26.6</td>\n",
       "      <td>0.351</td>\n",
       "      <td>31</td>\n",
       "      <td>0</td>\n",
       "    </tr>\n",
       "    <tr>\n",
       "      <th>2</th>\n",
       "      <td>8</td>\n",
       "      <td>183</td>\n",
       "      <td>64</td>\n",
       "      <td>0</td>\n",
       "      <td>0</td>\n",
       "      <td>23.3</td>\n",
       "      <td>0.672</td>\n",
       "      <td>32</td>\n",
       "      <td>1</td>\n",
       "    </tr>\n",
       "    <tr>\n",
       "      <th>3</th>\n",
       "      <td>1</td>\n",
       "      <td>89</td>\n",
       "      <td>66</td>\n",
       "      <td>23</td>\n",
       "      <td>94</td>\n",
       "      <td>28.1</td>\n",
       "      <td>0.167</td>\n",
       "      <td>21</td>\n",
       "      <td>0</td>\n",
       "    </tr>\n",
       "    <tr>\n",
       "      <th>4</th>\n",
       "      <td>0</td>\n",
       "      <td>137</td>\n",
       "      <td>40</td>\n",
       "      <td>35</td>\n",
       "      <td>168</td>\n",
       "      <td>43.1</td>\n",
       "      <td>2.288</td>\n",
       "      <td>33</td>\n",
       "      <td>1</td>\n",
       "    </tr>\n",
       "    <tr>\n",
       "      <th>...</th>\n",
       "      <td>...</td>\n",
       "      <td>...</td>\n",
       "      <td>...</td>\n",
       "      <td>...</td>\n",
       "      <td>...</td>\n",
       "      <td>...</td>\n",
       "      <td>...</td>\n",
       "      <td>...</td>\n",
       "      <td>...</td>\n",
       "    </tr>\n",
       "    <tr>\n",
       "      <th>763</th>\n",
       "      <td>10</td>\n",
       "      <td>101</td>\n",
       "      <td>76</td>\n",
       "      <td>48</td>\n",
       "      <td>180</td>\n",
       "      <td>32.9</td>\n",
       "      <td>0.171</td>\n",
       "      <td>63</td>\n",
       "      <td>0</td>\n",
       "    </tr>\n",
       "    <tr>\n",
       "      <th>764</th>\n",
       "      <td>2</td>\n",
       "      <td>122</td>\n",
       "      <td>70</td>\n",
       "      <td>27</td>\n",
       "      <td>0</td>\n",
       "      <td>36.8</td>\n",
       "      <td>0.340</td>\n",
       "      <td>27</td>\n",
       "      <td>0</td>\n",
       "    </tr>\n",
       "    <tr>\n",
       "      <th>765</th>\n",
       "      <td>5</td>\n",
       "      <td>121</td>\n",
       "      <td>72</td>\n",
       "      <td>23</td>\n",
       "      <td>112</td>\n",
       "      <td>26.2</td>\n",
       "      <td>0.245</td>\n",
       "      <td>30</td>\n",
       "      <td>0</td>\n",
       "    </tr>\n",
       "    <tr>\n",
       "      <th>766</th>\n",
       "      <td>1</td>\n",
       "      <td>126</td>\n",
       "      <td>60</td>\n",
       "      <td>0</td>\n",
       "      <td>0</td>\n",
       "      <td>30.1</td>\n",
       "      <td>0.349</td>\n",
       "      <td>47</td>\n",
       "      <td>1</td>\n",
       "    </tr>\n",
       "    <tr>\n",
       "      <th>767</th>\n",
       "      <td>1</td>\n",
       "      <td>93</td>\n",
       "      <td>70</td>\n",
       "      <td>31</td>\n",
       "      <td>0</td>\n",
       "      <td>30.4</td>\n",
       "      <td>0.315</td>\n",
       "      <td>23</td>\n",
       "      <td>0</td>\n",
       "    </tr>\n",
       "  </tbody>\n",
       "</table>\n",
       "<p>768 rows × 9 columns</p>\n",
       "</div>"
      ],
      "text/plain": [
       "     Pregnancies  Glucose  BloodPressure  SkinThickness  Insulin   BMI  \\\n",
       "0              6      148             72             35        0  33.6   \n",
       "1              1       85             66             29        0  26.6   \n",
       "2              8      183             64              0        0  23.3   \n",
       "3              1       89             66             23       94  28.1   \n",
       "4              0      137             40             35      168  43.1   \n",
       "..           ...      ...            ...            ...      ...   ...   \n",
       "763           10      101             76             48      180  32.9   \n",
       "764            2      122             70             27        0  36.8   \n",
       "765            5      121             72             23      112  26.2   \n",
       "766            1      126             60              0        0  30.1   \n",
       "767            1       93             70             31        0  30.4   \n",
       "\n",
       "     DiabetesPedigreeFunction  Age  Outcome  \n",
       "0                       0.627   50        1  \n",
       "1                       0.351   31        0  \n",
       "2                       0.672   32        1  \n",
       "3                       0.167   21        0  \n",
       "4                       2.288   33        1  \n",
       "..                        ...  ...      ...  \n",
       "763                     0.171   63        0  \n",
       "764                     0.340   27        0  \n",
       "765                     0.245   30        0  \n",
       "766                     0.349   47        1  \n",
       "767                     0.315   23        0  \n",
       "\n",
       "[768 rows x 9 columns]"
      ]
     },
     "execution_count": 8,
     "metadata": {},
     "output_type": "execute_result"
    }
   ],
   "source": [
    "df = pd.read_csv('diabetes.csv')\n",
    "df"
   ]
  },
  {
   "cell_type": "code",
   "execution_count": 9,
   "id": "fbc9b2d8",
   "metadata": {},
   "outputs": [
    {
     "name": "stdout",
     "output_type": "stream",
     "text": [
      "Pregnancies                 0\n",
      "Glucose                     0\n",
      "BloodPressure               0\n",
      "SkinThickness               0\n",
      "Insulin                     0\n",
      "BMI                         0\n",
      "DiabetesPedigreeFunction    0\n",
      "Age                         0\n",
      "Outcome                     0\n",
      "dtype: int64\n"
     ]
    }
   ],
   "source": [
    "# 결측치 확인\n",
    "print(df.isnull().sum())\n",
    "\n",
    "# 특성과 레이블 분리\n",
    "X = df.drop(\"Outcome\", axis=1)\n",
    "y = df[\"Outcome\"]\n",
    "\n",
    "# 훈련 데이터와 테스트 데이터 분할\n",
    "X_train, X_test, y_train, y_test = train_test_split(X, y, test_size=0.2, random_state=42)\n"
   ]
  },
  {
   "cell_type": "code",
   "execution_count": 10,
   "id": "6821d366",
   "metadata": {},
   "outputs": [
    {
     "name": "stdout",
     "output_type": "stream",
     "text": [
      "Accuracy: 0.7467532467532467\n",
      "\n",
      "Classification Report:\n",
      "              precision    recall  f1-score   support\n",
      "\n",
      "           0       0.83      0.76      0.79        99\n",
      "           1       0.62      0.73      0.67        55\n",
      "\n",
      "    accuracy                           0.75       154\n",
      "   macro avg       0.73      0.74      0.73       154\n",
      "weighted avg       0.76      0.75      0.75       154\n",
      "\n",
      "\n",
      "Confusion Matrix:\n",
      "[[75 24]\n",
      " [15 40]]\n"
     ]
    }
   ],
   "source": [
    "# Decision Tree 모델 생성\n",
    "model = DecisionTreeClassifier(random_state=42)\n",
    "model.fit(X_train, y_train)\n",
    "\n",
    "# 테스트 데이터로 예측\n",
    "y_pred = model.predict(X_test)\n",
    "\n",
    "# 정확도 출력\n",
    "accuracy = accuracy_score(y_test, y_pred)\n",
    "print(\"Accuracy:\", accuracy)\n",
    "\n",
    "# 분류 보고서 출력\n",
    "print(\"\\nClassification Report:\")\n",
    "print(classification_report(y_test, y_pred))\n",
    "\n",
    "# 혼동 행렬 출력\n",
    "print(\"\\nConfusion Matrix:\")\n",
    "print(confusion_matrix(y_test, y_pred))\n"
   ]
  }
 ],
 "metadata": {
  "kernelspec": {
   "display_name": "Python 3 (ipykernel)",
   "language": "python",
   "name": "python3"
  },
  "language_info": {
   "codemirror_mode": {
    "name": "ipython",
    "version": 3
   },
   "file_extension": ".py",
   "mimetype": "text/x-python",
   "name": "python",
   "nbconvert_exporter": "python",
   "pygments_lexer": "ipython3",
   "version": "3.9.12"
  }
 },
 "nbformat": 4,
 "nbformat_minor": 5
}
